{
 "cells": [
  {
   "cell_type": "code",
   "execution_count": 1,
   "id": "df368217",
   "metadata": {},
   "outputs": [],
   "source": [
    "import numpy as np\n",
    "import re\n",
    "from os import listdir\n",
    "from os.path import isfile, join#\n",
    "from collections import OrderedDict\n",
    "from itertools import product, groupby\n",
    "import itertools"
   ]
  },
  {
   "cell_type": "code",
   "execution_count": 2,
   "id": "08c6ed4d",
   "metadata": {},
   "outputs": [],
   "source": [
    "def get_step_1_params(line):\n",
    "    return [int(line[0]), int(line[1]), line[1], line[1], line[2]]       \n",
    "def get_step_2_params(line):\n",
    "    return [int(line[0]), int(line[1]), line[3]]\n",
    "def get_step_3_params(line):\n",
    "    return [int(line[0]), int(line[1]), line[3], line[4]]"
   ]
  },
  {
   "cell_type": "code",
   "execution_count": 3,
   "id": "d145a0e8",
   "metadata": {},
   "outputs": [
    {
     "data": {
      "text/plain": [
       "array([ 0.01306942, -1.1468987 ])"
      ]
     },
     "execution_count": 3,
     "metadata": {},
     "output_type": "execute_result"
    },
    {
     "data": {
      "image/png": "[encoded data removed]",
      "text/plain": [
       "<Figure size 432x288 with 1 Axes>"
      ]
     },
     "metadata": {
      "needs_background": "light"
     },
     "output_type": "display_data"
    }
   ],
   "source": [
    "import matplotlib.pyplot as plt\n",
    "from scipy.optimize import curve_fit\n",
    "def linear(x, a, b):\n",
    "    return a*x+b\n",
    "\n",
    "def heat_flux_linear(T_end):\n",
    "    return 11.28*T_end/950\n",
    "\n",
    "ref_temp = [902.61, 950.90, 980.64]\n",
    "bhf = [10.65, 11.28, 11.67]\n",
    "\n",
    "params, cov = curve_fit(linear, ref_temp, bhf)\n",
    "xx = np.linspace(790, 1010, 1000)\n",
    "plt.plot(ref_temp, bhf, 'x')\n",
    "plt.plot(xx, linear(xx, *params))\n",
    "\n",
    "params"
   ]
  },
  {
   "cell_type": "code",
   "execution_count": 4,
   "id": "0e555951",
   "metadata": {},
   "outputs": [],
   "source": [
    "\n",
    "def format_step_1(params):\n",
    "    #read template STEP 1\n",
    "    with open('FEM_Template/Step1_template.inp') as f:\n",
    "        step1_lines = f.readlines()\n",
    "    step1_lines[4]=step1_lines[4].format(params[0], params[1])\n",
    "    step1_lines[3590]=step1_lines[3590].format(params[2])\n",
    "    step1_lines[3596]=step1_lines[3596].format(params[3])\n",
    "    step1_lines[3631]=step1_lines[3631].format(params[4])\n",
    "\n",
    "    outfile = open('FEM_Template/inp/step1/WTP-M1_WS{}_WZ{}.inp'.format(params[0], params[1]), 'w')\n",
    "    outfile.writelines(step1_lines)\n",
    "    outfile.close()\n"
   ]
  },
  {
   "cell_type": "code",
   "execution_count": 5,
   "id": "8fa33084",
   "metadata": {},
   "outputs": [],
   "source": [
    "def format_step_2(params_step2):\n",
    "    with open('FEM_Template/Step2_template.inp') as g:\n",
    "        step2_lines = g.readlines()\n",
    "    step2_lines[4]=step2_lines[4].format(params_step2[0], params_step2[1], params_step2[2] )\n",
    "    step2_lines[15]=step2_lines[15].format(params_step2[0], params_step2[1])\n",
    "    step2_lines[23]=step2_lines[23].format(params_step2[0], params_step2[1])\n",
    "    step2_lines[31]=step2_lines[31].format(params_step2[0], params_step2[1])\n",
    "    step2_lines[4078]=step2_lines[4078].format(params_step2[2])\n",
    "\n",
    "    outfile = open('FEM_Template/inp/step2/WTP-M2_WS{}_WZ{}_p{}.inp'.format(params_step2[0], params_step2[1], params_step2[2]), 'w')\n",
    "    outfile.writelines(step2_lines)\n",
    "    outfile.close()\n"
   ]
  },
  {
   "cell_type": "code",
   "execution_count": 6,
   "id": "c330d7b3",
   "metadata": {},
   "outputs": [],
   "source": [
    "def format_step_3(params_step3):\n",
    "    with open('FEM_Template/Step3_template.inp') as h:\n",
    "        step3_lines = h.readlines()\n",
    "    step3_lines[4]=step3_lines[4].format(params_step3[0], params_step3[1], params_step3[2], params_step3[3] )\n",
    "    step3_lines[15]=step3_lines[15].format(params_step3[0], params_step3[1], params_step3[2])\n",
    "    step3_lines[23]=step3_lines[23].format(params_step3[0], params_step3[1], params_step3[2])\n",
    "    step3_lines[31]=step3_lines[31].format(params_step3[0], params_step3[1], params_step3[2])\n",
    "    step3_lines[535]=step3_lines[535].format(params_step3[2])\n",
    "    step3_lines[562]=step3_lines[562].format(params_step3[3]-0.1)\n",
    "\n",
    "    outfile = open('FEM_Template/inp/step3/WTP-M3_WS{}_WZ{}_p{}_t{}.inp'.format(params_step3[0], params_step3[1], params_step3[2], params_step3[3]), 'w')\n",
    "    outfile.writelines(step3_lines)\n",
    "    outfile.close()\n"
   ]
  },
  {
   "cell_type": "code",
   "execution_count": 7,
   "id": "50ed39d8",
   "metadata": {},
   "outputs": [
    {
     "name": "stdout",
     "output_type": "stream",
     "text": [
      "(5292, 5)\n",
      "(4032, 3)\n",
      "(16128, 4)\n"
     ]
    }
   ],
   "source": [
    "parameter_grid = OrderedDict([\n",
    "    ('oven_temps', np.linspace(800, 1000, 21)), # 10 deg steps\n",
    "    ('vorlauf_temps', np.linspace(60, 170, 12)), #10 deg steps\n",
    "    ('heat_fluxes', linear(np.linspace(800, 1000, 21), *params)), # get the actual corresponding heat fluxes\n",
    "    ('press_forces', np.linspace(10, 25, 16)), # many do we want?\n",
    "    ('press_holding', np.linspace(4, 10, 4))\n",
    "])\n",
    "grid = np.array([parameters for parameters in product(*parameter_grid.values())])\n",
    "grid.shape\n",
    "\n",
    "# format in the values like: WS Temp, WZ Temp, WZ Temp STempel, WZ Temp Boden, Heat Flux (WS Temp)\n",
    "\n",
    "# params = [950,90,90.0,90.0, 11.28]\n",
    "params = np.unique([get_step_1_params(line) for line in grid], axis=0)\n",
    "print(params.shape)\n",
    "for param_set in params:\n",
    "    format_step_1(param_set)    \n",
    "    \n",
    "#params_step2 = [950,90,19.0]\n",
    "params_step2 = np.unique([get_step_2_params(line) for line in grid], axis=0) \n",
    "#params_step2 = np.array([get_step_2_params(line) for line in grid])\n",
    "print(params_step2.shape)\n",
    "for param_set in params_step2:\n",
    "    format_step_2(param_set)\n",
    "    \n",
    "#params_step3 = [950,90,19.0,10]\n",
    "params_step3 = np.unique([get_step_3_params(line) for line in grid], axis=0)\n",
    "print(params_step3.shape)\n",
    "for param_set in params_step3:\n",
    "    format_step_3(param_set)"
   ]
  },
  {
   "cell_type": "code",
   "execution_count": 8,
   "id": "992e3799",
   "metadata": {},
   "outputs": [],
   "source": [
    "def write_bat(filepath, step):\n",
    "    onlyfiles = [f[:-4] for f in listdir(filepath) if isfile(join(filepath, f))]\n",
    "    with open(\"batchfiles/jobfile_step_{}.bat\".format(step), \"a\") as file_object:\n",
    "        for filename in onlyfiles:\n",
    "            string = 'call abaqus job={} cpus=4 background \\n'.format(filename)\n",
    "            file_object.write(string)"
   ]
  },
  {
   "cell_type": "code",
   "execution_count": 9,
   "id": "9b354b7c",
   "metadata": {},
   "outputs": [],
   "source": [
    "write_bat('FEM_Template/inp/step1',1)\n",
    "write_bat('FEM_Template/inp/step2',2)\n",
    "write_bat('FEM_Template/inp/step3',3)"
   ]
  },
  {
   "cell_type": "code",
   "execution_count": 10,
   "id": "a87737f2",
   "metadata": {},
   "outputs": [],
   "source": [
    "def split_bat(filename, step, split):\n",
    "    with open(filename) as file:\n",
    "        lines = file.readlines()    \n",
    "    split = np.array_split(lines, split)\n",
    "    for i, chunk in enumerate(split):\n",
    "        with open(\"batchfiles/jobfile_step_{}_part_{}.bat\".format(step, i), \"a\") as file_object:\n",
    "            for line in chunk:\n",
    "                file_object.write(line)\n",
    "        #print(chunk)\n",
    "        #np.savetxt(\"batchfiles/jobfile_step_{}_part_{}.bat\".format(step, i), chunk, newline='\\n')"
   ]
  },
  {
   "cell_type": "code",
   "execution_count": 11,
   "id": "f0bc8900",
   "metadata": {},
   "outputs": [],
   "source": [
    "split_bat(\"batchfiles/jobfile_step_1.bat\", 1, 8)\n",
    "split_bat(\"batchfiles/jobfile_step_2.bat\", 2, 8)\n",
    "split_bat(\"batchfiles/jobfile_step_3.bat\", 3, 8)"
   ]
  },
  {
   "cell_type": "code",
   "execution_count": null,
   "id": "45b7c402",
   "metadata": {},
   "outputs": [],
   "source": []
  }
 ],
 "metadata": {
  "kernelspec": {
   "display_name": "Python 3",
   "language": "python",
   "name": "python3"
  },
  "language_info": {
   "codemirror_mode": {
    "name": "ipython",
    "version": 3
   },
   "file_extension": ".py",
   "mimetype": "text/x-python",
   "name": "python",
   "nbconvert_exporter": "python",
   "pygments_lexer": "ipython3",
   "version": "3.8.8"
  }
 },
 "nbformat": 4,
 "nbformat_minor": 5
}
